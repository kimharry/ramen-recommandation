{
 "cells": [
  {
   "cell_type": "markdown",
   "metadata": {},
   "source": [
    "# ramen_DB.csv preprocessing"
   ]
  },
  {
   "cell_type": "code",
   "execution_count": null,
   "metadata": {},
   "outputs": [],
   "source": [
    "import pandas as pd\n",
    "\n",
    "# Read the data\n",
    "df = pd.read_csv('ramen_DB.csv')\n",
    "\n",
    "# 중복 제거\n",
    "df = df.drop_duplicates(['식품명'], keep='first')\n",
    "\n",
    "# 중복 제거 후 인덱스 재설정\n",
    "df = df.reset_index(drop=True)\n",
    "\n",
    "# 중복 제거 후 데이터 저장\n",
    "df.to_csv('ramen_DB.csv', index=False, encoding='utf-8-sig')"
   ]
  },
  {
   "cell_type": "markdown",
   "metadata": {},
   "source": [
    "# Create Embeddings and Save them to a File"
   ]
  },
  {
   "cell_type": "code",
   "execution_count": null,
   "metadata": {},
   "outputs": [],
   "source": [
    "import openai\n",
    "import pandas as pd \n",
    "import csv\n",
    "import config\n",
    "\n",
    "with open('ramen_DB_final.json',encoding='UTF-8-sig') as f:\n",
    "    temp = csv.loads(f.read())\n",
    "df = pd.DataFrame(temp)   \n",
    "\n",
    "openai.api_key = config.api_key\n",
    "openai_model = 'text-embedding-ada-002'\n",
    "\n",
    "overview_emb = []\n",
    "for i in range(df.shape[0]):\n",
    "    text = df['soup'][i]\n",
    "    result = openai.Embedding.create(model=openai_model, input=text)\n",
    "    result_emb = result['data'][0]['embedding']\n",
    "    overview_emb.append(result_emb)\n",
    "\n",
    "df.to_csv('ramen_DB_final_embedded.csv', encoding='utf-8-sig', index=False)"
   ]
  },
  {
   "cell_type": "markdown",
   "metadata": {},
   "source": [
    "# Analyze the Embeddings and Create Result JSON Files"
   ]
  },
  {
   "cell_type": "code",
   "execution_count": null,
   "metadata": {},
   "outputs": [],
   "source": [
    "import pandas as pd\n",
    "import torch\n",
    "from sentence_transformers import util\n",
    "\n",
    "df = pd.read_csv('ramen_DB_final_embedded.csv',encoding='utf-8-sig')\n",
    "\n",
    "df[\"openai_emb\"] = df[\"openai_emb\"].apply(lambda x: x[1:-1].split(', '))\n",
    "df[\"openai_emb\"] = df[\"openai_emb\"].apply(lambda x: list(map(float, x)))"
   ]
  },
  {
   "cell_type": "code",
   "execution_count": null,
   "metadata": {},
   "outputs": [],
   "source": [
    "def make_result(pref):\n",
    "    temp_list = []\n",
    "\n",
    "    for i in df.index:\n",
    "        temp_ramen_name = df.loc[i, 'name']\n",
    "        temp_emb = df.loc[i, 'openai_emb']\n",
    "\n",
    "        if pref == '1_1':\n",
    "            temp_df = df.copy()\n",
    "        elif pref == '1_2':\n",
    "            temp_df = pd.DataFrame(df[df['calories'] > df.loc[i, 'calories']])\n",
    "        elif pref == '1_3':\n",
    "            temp_df = pd.DataFrame(df[df['calories'] < df.loc[i, 'calories']])\n",
    "\n",
    "        elif pref == '2_1':\n",
    "            temp_df = pd.DataFrame(df[df['sodium'] > df.loc[i, 'sodium']])\n",
    "        elif pref == '2_2':\n",
    "            temp_df = pd.DataFrame(df[(df['sodium'] > df.loc[i, 'sodium']) & (df['calories'] > df.loc[i, 'calories'])])\n",
    "        elif pref == '2_3':\n",
    "            temp_df = pd.DataFrame(df[(df['sodium'] > df.loc[i, 'sodium']) & (df['calories'] < df.loc[i, 'calories'])])\n",
    "\n",
    "        elif pref == '3_1':\n",
    "            temp_df = pd.DataFrame(df[df['sodium'] < df.loc[i, 'sodium']])\n",
    "        elif pref == '3_2':\n",
    "            temp_df = pd.DataFrame(df[(df['sodium'] < df.loc[i, 'sodium']) & (df['calories'] > df.loc[i, 'calories'])])\n",
    "        elif pref == '3_3':\n",
    "            temp_df = pd.DataFrame(df[(df['sodium'] < df.loc[i, 'sodium']) & (df['calories'] < df.loc[i, 'calories'])])\n",
    "\n",
    "        else:\n",
    "            raise ValueError('Invalid pref')\n",
    "        \n",
    "        temp_df = temp_df.reset_index(drop=True)\n",
    "\n",
    "        try:\n",
    "            cos_scores = util.pytorch_cos_sim(temp_emb, temp_df['openai_emb'])[0]\n",
    "        except:\n",
    "            temp_list.append({})\n",
    "            continue\n",
    "\n",
    "        top_k = 10\n",
    "        while top_k > 0:\n",
    "            try:\n",
    "                top_results = torch.topk(cos_scores, k=top_k)\n",
    "                break\n",
    "            except:\n",
    "                top_k -= 1\n",
    "\n",
    "        top_result_id = top_results.indices.tolist()\n",
    "        top_result_score = top_results.values.tolist()\n",
    "\n",
    "        temp_result_df = temp_df[temp_df.index.isin(top_result_id)]\n",
    "        temp_result_df.index = top_result_id\n",
    "        temp_result_df['score'] = top_result_score\n",
    "\n",
    "        for j in temp_result_df.index:\n",
    "            if (temp_ramen_name in temp_result_df.loc[j, 'name']) or (temp_result_df.loc[j, 'name'] in temp_ramen_name):\n",
    "                temp_result_df = temp_result_df.drop(j)\n",
    "\n",
    "        index_to_drop = []\n",
    "        for j in temp_result_df.index:\n",
    "            for k in temp_result_df.index:\n",
    "                if (temp_result_df.loc[j, 'name'] in temp_result_df.loc[k, 'name']) and (j != k):\n",
    "                    index_to_drop.append(k)\n",
    "        \n",
    "        index_to_drop = list(set(index_to_drop))\n",
    "        temp_result_df = temp_result_df.drop(index_to_drop)\n",
    "\n",
    "        temp_result_df = temp_result_df.head(5)\n",
    "\n",
    "        temp_result_df = temp_result_df[['name', 'sodium', 'calories']].to_dict('records')\n",
    "        \n",
    "        temp_list.append(temp_result_df)\n",
    "    \n",
    "    return temp_list"
   ]
  },
  {
   "cell_type": "code",
   "execution_count": null,
   "metadata": {},
   "outputs": [],
   "source": [
    "# Sodium: I don't care\n",
    "# Calories: I don't care\n",
    "\n",
    "df_1_1 = df.copy()\n",
    "df_1_1 = df_1_1[['name', 'sodium', 'calories']]\n",
    "\n",
    "df_1_1['result'] = make_result('1_1')\n",
    "\n",
    "df_1_1.to_json(\"./json/idc+idc.json\", orient='records', force_ascii=False)\n",
    "    "
   ]
  },
  {
   "cell_type": "code",
   "execution_count": null,
   "metadata": {},
   "outputs": [],
   "source": [
    "# Sodium: I don't care\n",
    "# Calories: Higher\n",
    "\n",
    "df_1_2 = df.copy()\n",
    "df_1_2 = df_1_2[['name', 'sodium', 'calories']]\n",
    "\n",
    "df_1_2['result'] = make_result('1_2')\n",
    "\n",
    "df_1_2.to_json(\"./json/idc+higher.json\", orient='records', force_ascii=False)"
   ]
  },
  {
   "cell_type": "code",
   "execution_count": null,
   "metadata": {},
   "outputs": [],
   "source": [
    "# Sodium: I don't care\n",
    "# Calories: Lower\n",
    "\n",
    "df_1_3 = df.copy()\n",
    "df_1_3 = df_1_3[['name', 'sodium', 'calories']]\n",
    "\n",
    "df_1_3['result'] = make_result('1_3')\n",
    "\n",
    "df_1_3.to_json(\"./json/idc+lower.json\", orient='records', force_ascii=False)"
   ]
  },
  {
   "cell_type": "code",
   "execution_count": null,
   "metadata": {},
   "outputs": [],
   "source": [
    "# Sodium: Higher\n",
    "# Calories: I don't care\n",
    "\n",
    "df_2_1 = df.copy()\n",
    "df_2_1 = df_2_1[['name', 'sodium', 'calories']]\n",
    "\n",
    "df_2_1['result'] = make_result('2_1')\n",
    "\n",
    "df_2_1.to_json(\"./json/higher+idc.json\", orient='records', force_ascii=False)"
   ]
  },
  {
   "cell_type": "code",
   "execution_count": null,
   "metadata": {},
   "outputs": [],
   "source": [
    "# Sodium: Higher\n",
    "# Calories: Higher\n",
    "\n",
    "df_2_2 = df.copy()\n",
    "df_2_2 = df_2_2[['name', 'sodium', 'calories']]\n",
    "\n",
    "df_2_2['result'] = make_result('2_2')\n",
    "\n",
    "df_2_2.to_json(\"./json/higher+higher.json\", orient='records', force_ascii=False)"
   ]
  },
  {
   "cell_type": "code",
   "execution_count": null,
   "metadata": {},
   "outputs": [],
   "source": [
    "# Sodium: Higher\n",
    "# Calories: Lower\n",
    "\n",
    "df_2_3 = df.copy()\n",
    "df_2_3 = df_2_3[['name', 'sodium', 'calories']]\n",
    "\n",
    "df_2_3['result'] = make_result('2_3')\n",
    "\n",
    "df_2_3.to_json(\"./json/higher+lower.json\", orient='records', force_ascii=False)"
   ]
  },
  {
   "cell_type": "code",
   "execution_count": null,
   "metadata": {},
   "outputs": [],
   "source": [
    "# Sodium: Lower\n",
    "# Calories: I don't care\n",
    "\n",
    "df_3_1 = df.copy()\n",
    "df_3_1 = df_3_1[['name', 'sodium', 'calories']]\n",
    "\n",
    "df_3_1['result'] = make_result('3_1')\n",
    "\n",
    "df_3_1.to_json(\"./json/lower+idc.json\", orient='records', force_ascii=False)"
   ]
  },
  {
   "cell_type": "code",
   "execution_count": null,
   "metadata": {},
   "outputs": [],
   "source": [
    "# Sodium: Lower\n",
    "# Calories: Higher\n",
    "\n",
    "df_3_2 = df.copy()\n",
    "df_3_2 = df_3_2[['name', 'sodium', 'calories']]\n",
    "\n",
    "df_3_2['result'] = make_result('3_2')\n",
    "\n",
    "df_3_2.to_json(\"./json/lower+higher.json\", orient='records', force_ascii=False)"
   ]
  },
  {
   "cell_type": "code",
   "execution_count": null,
   "metadata": {},
   "outputs": [],
   "source": [
    "# Sodium: Lower\n",
    "# Calories: Lower\n",
    "\n",
    "df_3_3 = df.copy()\n",
    "df_3_3 = df_3_3[['name', 'sodium', 'calories']]\n",
    "\n",
    "df_3_3['result'] = make_result('3_3')\n",
    "\n",
    "df_3_3.to_json(\"./json/lower+lower.json\", orient='records', force_ascii=False)"
   ]
  }
 ],
 "metadata": {
  "kernelspec": {
   "display_name": "Python 3",
   "language": "python",
   "name": "python3"
  },
  "language_info": {
   "codemirror_mode": {
    "name": "ipython",
    "version": 3
   },
   "file_extension": ".py",
   "mimetype": "text/x-python",
   "name": "python",
   "nbconvert_exporter": "python",
   "pygments_lexer": "ipython3",
   "version": "3.11.6"
  }
 },
 "nbformat": 4,
 "nbformat_minor": 2
}
